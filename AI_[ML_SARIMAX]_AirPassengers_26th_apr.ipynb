{
 "cells": [
  {
   "cell_type": "code",
   "execution_count": 1,
   "id": "dcd0cfb1-b292-4a2e-be9a-9cdc2492ae77",
   "metadata": {},
   "outputs": [],
   "source": [
    "import pandas as pd \n",
    "import numpy as np\n",
    "import seaborn as sns\n",
    "import matplotlib.pyplot as plt\n",
    "import warnings\n",
    "warnings.simplefilter(\"ignore\")"
   ]
  },
  {
   "cell_type": "code",
   "execution_count": 2,
   "id": "7971dbe1-4e2a-4df3-a162-031a575aeff4",
   "metadata": {},
   "outputs": [],
   "source": [
    "#pip install statsmodels\n",
    "import statsmodels"
   ]
  },
  {
   "cell_type": "code",
   "execution_count": 3,
   "id": "ef90bfda-ec3a-4edf-8d9b-c2f0e97cc43a",
   "metadata": {},
   "outputs": [
    {
     "data": {
      "text/html": [
       "<div>\n",
       "<style scoped>\n",
       "    .dataframe tbody tr th:only-of-type {\n",
       "        vertical-align: middle;\n",
       "    }\n",
       "\n",
       "    .dataframe tbody tr th {\n",
       "        vertical-align: top;\n",
       "    }\n",
       "\n",
       "    .dataframe thead th {\n",
       "        text-align: right;\n",
       "    }\n",
       "</style>\n",
       "<table border=\"1\" class=\"dataframe\">\n",
       "  <thead>\n",
       "    <tr style=\"text-align: right;\">\n",
       "      <th></th>\n",
       "      <th>Month</th>\n",
       "      <th>#Passengers</th>\n",
       "    </tr>\n",
       "  </thead>\n",
       "  <tbody>\n",
       "    <tr>\n",
       "      <th>0</th>\n",
       "      <td>1949-01</td>\n",
       "      <td>112</td>\n",
       "    </tr>\n",
       "    <tr>\n",
       "      <th>1</th>\n",
       "      <td>1949-02</td>\n",
       "      <td>118</td>\n",
       "    </tr>\n",
       "    <tr>\n",
       "      <th>2</th>\n",
       "      <td>1949-03</td>\n",
       "      <td>132</td>\n",
       "    </tr>\n",
       "    <tr>\n",
       "      <th>3</th>\n",
       "      <td>1949-04</td>\n",
       "      <td>129</td>\n",
       "    </tr>\n",
       "    <tr>\n",
       "      <th>4</th>\n",
       "      <td>1949-05</td>\n",
       "      <td>121</td>\n",
       "    </tr>\n",
       "    <tr>\n",
       "      <th>...</th>\n",
       "      <td>...</td>\n",
       "      <td>...</td>\n",
       "    </tr>\n",
       "    <tr>\n",
       "      <th>139</th>\n",
       "      <td>1960-08</td>\n",
       "      <td>606</td>\n",
       "    </tr>\n",
       "    <tr>\n",
       "      <th>140</th>\n",
       "      <td>1960-09</td>\n",
       "      <td>508</td>\n",
       "    </tr>\n",
       "    <tr>\n",
       "      <th>141</th>\n",
       "      <td>1960-10</td>\n",
       "      <td>461</td>\n",
       "    </tr>\n",
       "    <tr>\n",
       "      <th>142</th>\n",
       "      <td>1960-11</td>\n",
       "      <td>390</td>\n",
       "    </tr>\n",
       "    <tr>\n",
       "      <th>143</th>\n",
       "      <td>1960-12</td>\n",
       "      <td>432</td>\n",
       "    </tr>\n",
       "  </tbody>\n",
       "</table>\n",
       "<p>144 rows × 2 columns</p>\n",
       "</div>"
      ],
      "text/plain": [
       "       Month  #Passengers\n",
       "0    1949-01          112\n",
       "1    1949-02          118\n",
       "2    1949-03          132\n",
       "3    1949-04          129\n",
       "4    1949-05          121\n",
       "..       ...          ...\n",
       "139  1960-08          606\n",
       "140  1960-09          508\n",
       "141  1960-10          461\n",
       "142  1960-11          390\n",
       "143  1960-12          432\n",
       "\n",
       "[144 rows x 2 columns]"
      ]
     },
     "execution_count": 3,
     "metadata": {},
     "output_type": "execute_result"
    }
   ],
   "source": [
    "df=pd.read_csv(\"AirPassengers.csv\")\n",
    "df"
   ]
  },
  {
   "cell_type": "code",
   "execution_count": 4,
   "id": "261699ba-ec6f-40ba-96e6-d19e144a8a6d",
   "metadata": {},
   "outputs": [
    {
     "name": "stdout",
     "output_type": "stream",
     "text": [
      "<class 'pandas.core.frame.DataFrame'>\n",
      "RangeIndex: 144 entries, 0 to 143\n",
      "Data columns (total 2 columns):\n",
      " #   Column       Non-Null Count  Dtype \n",
      "---  ------       --------------  ----- \n",
      " 0   Month        144 non-null    object\n",
      " 1   #Passengers  144 non-null    int64 \n",
      "dtypes: int64(1), object(1)\n",
      "memory usage: 2.4+ KB\n"
     ]
    }
   ],
   "source": [
    "df.info()"
   ]
  },
  {
   "cell_type": "code",
   "execution_count": 5,
   "id": "991ca828-cef0-4bc9-9593-3ff65ae03804",
   "metadata": {},
   "outputs": [
    {
     "data": {
      "text/html": [
       "<div>\n",
       "<style scoped>\n",
       "    .dataframe tbody tr th:only-of-type {\n",
       "        vertical-align: middle;\n",
       "    }\n",
       "\n",
       "    .dataframe tbody tr th {\n",
       "        vertical-align: top;\n",
       "    }\n",
       "\n",
       "    .dataframe thead th {\n",
       "        text-align: right;\n",
       "    }\n",
       "</style>\n",
       "<table border=\"1\" class=\"dataframe\">\n",
       "  <thead>\n",
       "    <tr style=\"text-align: right;\">\n",
       "      <th></th>\n",
       "      <th>Month</th>\n",
       "      <th>#Passengers</th>\n",
       "    </tr>\n",
       "  </thead>\n",
       "  <tbody>\n",
       "    <tr>\n",
       "      <th>0</th>\n",
       "      <td>1949-01</td>\n",
       "      <td>112</td>\n",
       "    </tr>\n",
       "    <tr>\n",
       "      <th>1</th>\n",
       "      <td>1949-02</td>\n",
       "      <td>118</td>\n",
       "    </tr>\n",
       "    <tr>\n",
       "      <th>2</th>\n",
       "      <td>1949-03</td>\n",
       "      <td>132</td>\n",
       "    </tr>\n",
       "    <tr>\n",
       "      <th>3</th>\n",
       "      <td>1949-04</td>\n",
       "      <td>129</td>\n",
       "    </tr>\n",
       "    <tr>\n",
       "      <th>4</th>\n",
       "      <td>1949-05</td>\n",
       "      <td>121</td>\n",
       "    </tr>\n",
       "    <tr>\n",
       "      <th>...</th>\n",
       "      <td>...</td>\n",
       "      <td>...</td>\n",
       "    </tr>\n",
       "    <tr>\n",
       "      <th>139</th>\n",
       "      <td>1960-08</td>\n",
       "      <td>606</td>\n",
       "    </tr>\n",
       "    <tr>\n",
       "      <th>140</th>\n",
       "      <td>1960-09</td>\n",
       "      <td>508</td>\n",
       "    </tr>\n",
       "    <tr>\n",
       "      <th>141</th>\n",
       "      <td>1960-10</td>\n",
       "      <td>461</td>\n",
       "    </tr>\n",
       "    <tr>\n",
       "      <th>142</th>\n",
       "      <td>1960-11</td>\n",
       "      <td>390</td>\n",
       "    </tr>\n",
       "    <tr>\n",
       "      <th>143</th>\n",
       "      <td>1960-12</td>\n",
       "      <td>432</td>\n",
       "    </tr>\n",
       "  </tbody>\n",
       "</table>\n",
       "<p>144 rows × 2 columns</p>\n",
       "</div>"
      ],
      "text/plain": [
       "       Month  #Passengers\n",
       "0    1949-01          112\n",
       "1    1949-02          118\n",
       "2    1949-03          132\n",
       "3    1949-04          129\n",
       "4    1949-05          121\n",
       "..       ...          ...\n",
       "139  1960-08          606\n",
       "140  1960-09          508\n",
       "141  1960-10          461\n",
       "142  1960-11          390\n",
       "143  1960-12          432\n",
       "\n",
       "[144 rows x 2 columns]"
      ]
     },
     "execution_count": 5,
     "metadata": {},
     "output_type": "execute_result"
    }
   ],
   "source": [
    "df.set_index('Month') # month set to index column\n",
    "df"
   ]
  },
  {
   "cell_type": "code",
   "execution_count": 6,
   "id": "e536ee01-77a5-4ae3-9a80-fbcd72bc8199",
   "metadata": {},
   "outputs": [
    {
     "data": {
      "text/html": [
       "<div>\n",
       "<style scoped>\n",
       "    .dataframe tbody tr th:only-of-type {\n",
       "        vertical-align: middle;\n",
       "    }\n",
       "\n",
       "    .dataframe tbody tr th {\n",
       "        vertical-align: top;\n",
       "    }\n",
       "\n",
       "    .dataframe thead th {\n",
       "        text-align: right;\n",
       "    }\n",
       "</style>\n",
       "<table border=\"1\" class=\"dataframe\">\n",
       "  <thead>\n",
       "    <tr style=\"text-align: right;\">\n",
       "      <th></th>\n",
       "      <th>Month</th>\n",
       "      <th>Passengers</th>\n",
       "    </tr>\n",
       "  </thead>\n",
       "  <tbody>\n",
       "    <tr>\n",
       "      <th>0</th>\n",
       "      <td>1949-01</td>\n",
       "      <td>112</td>\n",
       "    </tr>\n",
       "    <tr>\n",
       "      <th>1</th>\n",
       "      <td>1949-02</td>\n",
       "      <td>118</td>\n",
       "    </tr>\n",
       "    <tr>\n",
       "      <th>2</th>\n",
       "      <td>1949-03</td>\n",
       "      <td>132</td>\n",
       "    </tr>\n",
       "    <tr>\n",
       "      <th>3</th>\n",
       "      <td>1949-04</td>\n",
       "      <td>129</td>\n",
       "    </tr>\n",
       "    <tr>\n",
       "      <th>4</th>\n",
       "      <td>1949-05</td>\n",
       "      <td>121</td>\n",
       "    </tr>\n",
       "    <tr>\n",
       "      <th>...</th>\n",
       "      <td>...</td>\n",
       "      <td>...</td>\n",
       "    </tr>\n",
       "    <tr>\n",
       "      <th>139</th>\n",
       "      <td>1960-08</td>\n",
       "      <td>606</td>\n",
       "    </tr>\n",
       "    <tr>\n",
       "      <th>140</th>\n",
       "      <td>1960-09</td>\n",
       "      <td>508</td>\n",
       "    </tr>\n",
       "    <tr>\n",
       "      <th>141</th>\n",
       "      <td>1960-10</td>\n",
       "      <td>461</td>\n",
       "    </tr>\n",
       "    <tr>\n",
       "      <th>142</th>\n",
       "      <td>1960-11</td>\n",
       "      <td>390</td>\n",
       "    </tr>\n",
       "    <tr>\n",
       "      <th>143</th>\n",
       "      <td>1960-12</td>\n",
       "      <td>432</td>\n",
       "    </tr>\n",
       "  </tbody>\n",
       "</table>\n",
       "<p>144 rows × 2 columns</p>\n",
       "</div>"
      ],
      "text/plain": [
       "       Month  Passengers\n",
       "0    1949-01         112\n",
       "1    1949-02         118\n",
       "2    1949-03         132\n",
       "3    1949-04         129\n",
       "4    1949-05         121\n",
       "..       ...         ...\n",
       "139  1960-08         606\n",
       "140  1960-09         508\n",
       "141  1960-10         461\n",
       "142  1960-11         390\n",
       "143  1960-12         432\n",
       "\n",
       "[144 rows x 2 columns]"
      ]
     },
     "execution_count": 6,
     "metadata": {},
     "output_type": "execute_result"
    }
   ],
   "source": [
    "df.rename(columns={\"#Passengers\":\"Passengers\"},inplace=True)\n",
    "df"
   ]
  },
  {
   "cell_type": "code",
   "execution_count": 7,
   "id": "c7c78579-4b02-4265-9aa4-8de13b469e70",
   "metadata": {},
   "outputs": [
    {
     "data": {
      "text/plain": [
       "RangeIndex(start=0, stop=144, step=1)"
      ]
     },
     "execution_count": 7,
     "metadata": {},
     "output_type": "execute_result"
    }
   ],
   "source": [
    "x=df.index\n",
    "x"
   ]
  },
  {
   "cell_type": "code",
   "execution_count": 8,
   "id": "c0b261eb-d345-4f12-acf3-a0d869d188e2",
   "metadata": {},
   "outputs": [
    {
     "data": {
      "image/png": "[encoded data removed]",
      "text/plain": [
       "<Figure size 640x480 with 1 Axes>"
      ]
     },
     "metadata": {},
     "output_type": "display_data"
    }
   ],
   "source": [
    "# for time series data always use line plot...its sequential data right?\n",
    "\n",
    "sns.lineplot(x=df.index,y=df[\"Passengers\"])\n",
    "# df having 0-143 records,in that range line plot should be plotted\n",
    "\n",
    "plt.show()"
   ]
  },
  {
   "cell_type": "markdown",
   "id": "c9776a32-899a-4b73-95f3-ccb3b88ae3b0",
   "metadata": {},
   "source": [
    "# Data is stationary or not...by using mean and std"
   ]
  },
  {
   "cell_type": "markdown",
   "id": "baba84be-b2f6-4ea1-ace1-a9311ea17d8c",
   "metadata": {},
   "source": [
    "# **Checking for Stationarity**\n",
    "- Method 1 : **Rolling statistics** "
   ]
  },
  {
   "cell_type": "code",
   "execution_count": 9,
   "id": "aa8ac96b-3ee3-43c0-9eb0-4d0fdb547665",
   "metadata": {},
   "outputs": [],
   "source": [
    "rolmean = df[\"Passengers\"].rolling(window=12).mean()\n",
    "rolstd = df[\"Passengers\"].rolling(window=12).std()\n",
    "# window 12 means 1 year = 12 months"
   ]
  },
  {
   "cell_type": "code",
   "execution_count": 10,
   "id": "387aa4da-7c83-4137-9858-9fd9429c9fd3",
   "metadata": {},
   "outputs": [
    {
     "data": {
      "image/png": "[encoded data removed]",
      "text/plain": [
       "<Figure size 640x480 with 1 Axes>"
      ]
     },
     "metadata": {},
     "output_type": "display_data"
    }
   ],
   "source": [
    "# Plotting rolling statistics...\n",
    "orig = plt.plot(df[\"Passengers\"],color='blue',label = 'original')\n",
    "mean = plt.plot(rolmean,color='red',label = 'rolling mean')\n",
    "std = plt.plot(rolstd,color='black',label = 'standard deviation')\n",
    "plt.title(\"rolling mean and standard deviation\")\n",
    "#plt.xticks(ticks = df.index)\n",
    "plt.legend()\n",
    "plt.show()"
   ]
  },
  {
   "cell_type": "code",
   "execution_count": 11,
   "id": "d508cc5b-4f7b-432d-a84f-3f9354ebf7e6",
   "metadata": {},
   "outputs": [
    {
     "data": {
      "image/png": "[encoded data removed]",
      "text/plain": [
       "<Figure size 640x480 with 1 Axes>"
      ]
     },
     "metadata": {},
     "output_type": "display_data"
    }
   ],
   "source": [
    "# Plotting rolling statistics...\n",
    "orig = plt.plot(df[\"Passengers\"],color='blue',label = 'original')\n",
    "mean = plt.plot(rolmean,color='red',label = 'rolling mean')\n",
    "std = plt.plot(rolstd,color='black',label = 'standard deviation')\n",
    "plt.title(\"rolling mean and standard deviation\")\n",
    "plt.xticks(ticks = df.index)\n",
    "plt.legend()\n",
    "plt.show()"
   ]
  },
  {
   "cell_type": "markdown",
   "id": "b80e2511-a6e5-4283-b8fa-029407eec671",
   "metadata": {},
   "source": [
    "# From the above conclude that it was a non stationary(not stationary data) data by the red line(mean)...\n",
    "- constant mean + constant std/variance = stationary data"
   ]
  },
  {
   "cell_type": "markdown",
   "id": "3f67cab4-b142-413e-8aff-446bdbe7bdd4",
   "metadata": {},
   "source": [
    "# Method 2 ~ Augmented Dicky fuller test(ADF test)\n",
    "#for the ADF test\n",
    "- h0: non stationary\n",
    "- h1: stationary\n",
    "#these are all locked...based on p value will decide"
   ]
  },
  {
   "cell_type": "code",
   "execution_count": 35,
   "id": "bdeedc9a-2b3d-45e0-99ff-602ee44763b2",
   "metadata": {},
   "outputs": [
    {
     "name": "stdout",
     "output_type": "stream",
     "text": [
      "P-value :  0.991880243437641\n"
     ]
    }
   ],
   "source": [
    "from statsmodels.tsa.stattools import adfuller\n",
    "adfuller_result = adfuller(df[\"Passengers\"])\n",
    "print(\"P-value : \",adfuller_result[1])"
   ]
  },
  {
   "cell_type": "code",
   "execution_count": 40,
   "id": "32c44df1-48db-4a4e-905e-e1845580cb25",
   "metadata": {},
   "outputs": [
    {
     "name": "stdout",
     "output_type": "stream",
     "text": [
      "P-value :  0.038629757676988535\n"
     ]
    }
   ],
   "source": [
    "# coverting the data into stationary...by differencing the data \n",
    "# differencing...\n",
    "diff = df[\"Passengers\"]-df[\"Passengers\"].shift(2)\n",
    "# shift value is trail and error, not fixed\n",
    "diff.dropna(inplace = True)\n",
    "# starting 2 values will be null so, removed\n",
    "\n",
    "# now checking p value by using dicky fuller method\n",
    "\n",
    "adfuller_result = adfuller(diff)\n",
    "print(\"P-value : \",adfuller_result[1])\n",
    "\n",
    "# now it is time series data was stationary means equal variance"
   ]
  },
  {
   "cell_type": "code",
   "execution_count": 14,
   "id": "2490db1d-6182-4164-8be5-6a000bce5b08",
   "metadata": {},
   "outputs": [
    {
     "data": {
      "text/plain": [
       "(142,)"
      ]
     },
     "execution_count": 14,
     "metadata": {},
     "output_type": "execute_result"
    }
   ],
   "source": [
    "diff.shape"
   ]
  },
  {
   "cell_type": "code",
   "execution_count": 41,
   "id": "a3906a03-1e3f-4ed1-a0b4-791e8feebcc0",
   "metadata": {},
   "outputs": [
    {
     "data": {
      "text/plain": [
       "113.60000000000001"
      ]
     },
     "execution_count": 41,
     "metadata": {},
     "output_type": "execute_result"
    }
   ],
   "source": [
    "142*0.8\n"
   ]
  },
  {
   "cell_type": "markdown",
   "id": "5ca86b03-97af-4cc8-bc8d-06a51e219c81",
   "metadata": {},
   "source": [
    "# train test split...must be done sequentially becoz it is time series data\n",
    "# first 80% data is for train(0-113) = 0.8*142 = 114, for test(114-141) = 28"
   ]
  },
  {
   "cell_type": "code",
   "execution_count": 16,
   "id": "3db38744-0003-430e-9c00-16d1c128f014",
   "metadata": {},
   "outputs": [
    {
     "data": {
      "text/plain": [
       "(114,)"
      ]
     },
     "execution_count": 16,
     "metadata": {},
     "output_type": "execute_result"
    }
   ],
   "source": [
    "y_train = diff[:114]\n",
    "y_test = diff[114:]\n",
    "y_train.shape"
   ]
  },
  {
   "cell_type": "markdown",
   "id": "37fa2e9a-b107-421f-bbaa-99ac55570f86",
   "metadata": {},
   "source": [
    "# There are 5 models for TIME SERIES using MACHINE LEARNING...\n",
    "- AR - Auto Regression - Linear Regression on selected records(p) - \n",
    "       #p value is fixed came from PACF plot\n",
    "       #PACF - partial auto corelation function\n",
    "       #PACF plot will tell records to be consider,which record having more correlation(p)\n",
    "- MA - Moving Average - Rolling Mean on Selected records(q)\n",
    "       #q value is fixed came from ACF plot \n",
    "       #ACF -Auto corelation function\n",
    "       #ACF plot will tell records to be consider,which record having more correlation(q)\n",
    "- ARMA - AR (p value from PACF plot) + MA (q value from ACF plot) \n",
    "- ARIMA - AR + I (d value, trail and error) + MA, i = integration, ex: i =1,2,3\n",
    "      #i value is trail and error (do hyperparameter tunning)"
   ]
  },
  {
   "cell_type": "code",
   "execution_count": 17,
   "id": "9c849295-8898-4451-b7f6-e1c2ffb3a26f",
   "metadata": {},
   "outputs": [
    {
     "data": {
      "image/png": "[encoded data removed]",
      "text/plain": [
       "<Figure size 640x480 with 1 Axes>"
      ]
     },
     "metadata": {},
     "output_type": "display_data"
    },
    {
     "data": {
      "image/png": "[encoded data removed]",
      "text/plain": [
       "<Figure size 640x480 with 1 Axes>"
      ]
     },
     "metadata": {},
     "output_type": "display_data"
    }
   ],
   "source": [
    "# Building...\n",
    "from statsmodels.tsa.stattools import acf,pacf\n",
    "import statsmodels.api as sm\n",
    "fig = sm.graphics.tsa.plot_acf(diff,lags=30) # per month 30 days\n",
    "fig = sm.graphics.tsa.plot_pacf(diff,lags=30) # per month 30 days\n",
    "\n",
    "# from this we knew that AR = 11 records, MA = 12 records"
   ]
  },
  {
   "cell_type": "code",
   "execution_count": 18,
   "id": "41c47e58-96d6-4848-9efa-1e6f5bcb117c",
   "metadata": {},
   "outputs": [],
   "source": [
    "import statsmodels"
   ]
  },
  {
   "cell_type": "markdown",
   "id": "063e684a-3854-470a-b122-7f4c7d2c017e",
   "metadata": {},
   "source": [
    "# Auto Regression modelling..."
   ]
  },
  {
   "cell_type": "code",
   "execution_count": 19,
   "id": "8806a405-a8bb-43f9-afdd-9dc212ed3fd2",
   "metadata": {},
   "outputs": [
    {
     "name": "stderr",
     "output_type": "stream",
     "text": [
      "C:\\Users\\RANGUMUDRI\\anaconda3\\Lib\\site-packages\\statsmodels\\tsa\\base\\tsa_model.py:473: ValueWarning: An unsupported index was provided and will be ignored when e.g. forecasting.\n",
      "  self._init_dates(dates, freq)\n",
      "C:\\Users\\RANGUMUDRI\\anaconda3\\Lib\\site-packages\\statsmodels\\tsa\\base\\tsa_model.py:473: ValueWarning: An unsupported index was provided and will be ignored when e.g. forecasting.\n",
      "  self._init_dates(dates, freq)\n",
      "C:\\Users\\RANGUMUDRI\\anaconda3\\Lib\\site-packages\\statsmodels\\tsa\\base\\tsa_model.py:473: ValueWarning: An unsupported index was provided and will be ignored when e.g. forecasting.\n",
      "  self._init_dates(dates, freq)\n",
      "C:\\Users\\RANGUMUDRI\\anaconda3\\Lib\\site-packages\\statsmodels\\base\\model.py:607: ConvergenceWarning: Maximum Likelihood optimization failed to converge. Check mle_retvals\n",
      "  warnings.warn(\"Maximum Likelihood optimization failed to \"\n"
     ]
    },
    {
     "name": "stdout",
     "output_type": "stream",
     "text": [
      "Train R-squared (ARIMA): 0.9468501887524385\n",
      "Test R-squared (ARIMA): 0.8415344938162549\n"
     ]
    },
    {
     "name": "stderr",
     "output_type": "stream",
     "text": [
      "C:\\Users\\RANGUMUDRI\\anaconda3\\Lib\\site-packages\\statsmodels\\tsa\\base\\tsa_model.py:836: ValueWarning: No supported index is available. Prediction results will be given with an integer index beginning at `start`.\n",
      "  return get_prediction_index(\n"
     ]
    }
   ],
   "source": [
    "import pandas as pd\n",
    "import numpy as np\n",
    "from statsmodels.tsa.arima.model import ARIMA\n",
    "from sklearn.metrics import r2_score\n",
    "\n",
    "# Example data preparation (Ensure y_train and y_test are defined correctly)\n",
    "# y_train = pd.Series(...)  # Your training data\n",
    "# y_test = pd.Series(...)   # Your test data\n",
    "\n",
    "# Fit ARIMA model\n",
    "model = ARIMA(y_train, order=(11, 0, 0))  # Example order, adjust as needed\n",
    "ARIMA_model = model.fit()\n",
    "\n",
    "# Make predictions for training set\n",
    "ypred_train = ARIMA_model.predict(start=0, end=len(y_train)-1)  # Use integer indices\n",
    "\n",
    "# Ensure predictions and actual data have the same index type for evaluation\n",
    "#ypred_train = pd.Series(ypred_train, index=y_train.index)\n",
    "\n",
    "# Evaluate training set performance\n",
    "train_r2 = r2_score(y_train, ypred_train)\n",
    "print(\"Train R-squared (ARIMA):\", train_r2)\n",
    "\n",
    "# Make predictions for test set\n",
    "# The start and end should reflect the range of your test data\n",
    "# Use the index of test data to specify the prediction range\n",
    "ypred_test = ARIMA_model.predict(start=len(y_train), end=len(y_train) + len(y_test) - 1)  # Use integer indices\n",
    "\n",
    "# Ensure predictions and actual data have the same index type for evaluation\n",
    "#ypred_test = pd.Series(ypred_test, index=y_test.index)\n",
    "\n",
    "# Evaluate test set performance\n",
    "test_r2 = r2_score(y_test, ypred_test)\n",
    "print(\"Test R-squared (ARIMA):\", test_r2)\n"
   ]
  },
  {
   "cell_type": "code",
   "execution_count": 20,
   "id": "9b2484e3-805e-41d1-beac-5c6279a44415",
   "metadata": {},
   "outputs": [
    {
     "name": "stderr",
     "output_type": "stream",
     "text": [
      "C:\\Users\\RANGUMUDRI\\anaconda3\\Lib\\site-packages\\statsmodels\\tsa\\base\\tsa_model.py:473: ValueWarning: An unsupported index was provided and will be ignored when e.g. forecasting.\n",
      "  self._init_dates(dates, freq)\n",
      "C:\\Users\\RANGUMUDRI\\anaconda3\\Lib\\site-packages\\statsmodels\\tsa\\base\\tsa_model.py:473: ValueWarning: An unsupported index was provided and will be ignored when e.g. forecasting.\n",
      "  self._init_dates(dates, freq)\n",
      "C:\\Users\\RANGUMUDRI\\anaconda3\\Lib\\site-packages\\statsmodels\\tsa\\base\\tsa_model.py:473: ValueWarning: An unsupported index was provided and will be ignored when e.g. forecasting.\n",
      "  self._init_dates(dates, freq)\n"
     ]
    },
    {
     "name": "stdout",
     "output_type": "stream",
     "text": [
      "Train R-squared (ARIMA): 0.9452484357493931\n",
      "Test R-squared (ARIMA): 0.8511300006117253\n"
     ]
    },
    {
     "name": "stderr",
     "output_type": "stream",
     "text": [
      "C:\\Users\\RANGUMUDRI\\anaconda3\\Lib\\site-packages\\statsmodels\\base\\model.py:607: ConvergenceWarning: Maximum Likelihood optimization failed to converge. Check mle_retvals\n",
      "  warnings.warn(\"Maximum Likelihood optimization failed to \"\n",
      "C:\\Users\\RANGUMUDRI\\anaconda3\\Lib\\site-packages\\statsmodels\\tsa\\base\\tsa_model.py:836: ValueWarning: No supported index is available. Prediction results will be given with an integer index beginning at `start`.\n",
      "  return get_prediction_index(\n"
     ]
    }
   ],
   "source": [
    "import pandas as pd\n",
    "import numpy as np\n",
    "from statsmodels.tsa.arima.model import ARIMA\n",
    "from sklearn.metrics import r2_score\n",
    "\n",
    "# Example data preparation (Ensure y_train and y_test are defined correctly)\n",
    "# y_train = pd.Series(...)  # Your training data\n",
    "# y_test = pd.Series(...)   # Your test data\n",
    "\n",
    "# Fit ARIMA model\n",
    "model = ARIMA(y_train, order=(12, 0, 0))  # Example order, adjust as needed\n",
    "ARIMA_model = model.fit()\n",
    "\n",
    "# Make predictions for training set\n",
    "ypred_train = ARIMA_model.predict(start=0, end=len(y_train)-1, typ='levels')  # Ensure integer indices are correct\n",
    "\n",
    "# If y_train has a specific index, make sure predictions align with it\n",
    "# yp_train = pd.Series(ypred_train, index=y_train.index)  # Uncomment if needed\n",
    "\n",
    "# Evaluate training set performance\n",
    "train_r2 = r2_score(y_train, ypred_train)\n",
    "print(\"Train R-squared (ARIMA):\", train_r2)\n",
    "\n",
    "# Make predictions for test set\n",
    "# The start and end should reflect the range of your test data\n",
    "ypred_test = ARIMA_model.predict(start=len(y_train), end=len(y_train) + len(y_test) - 1, typ='levels')  # Ensure integer indices are correct\n",
    "\n",
    "# If y_test has a specific index, make sure predictions align with it\n",
    "# yp_test = pd.Series(ypred_test, index=y_test.index)  # Uncomment if needed\n",
    "\n",
    "# Evaluate test set performance\n",
    "test_r2 = r2_score(y_test, ypred_test)\n",
    "print(\"Test R-squared (ARIMA):\", test_r2)\n"
   ]
  },
  {
   "cell_type": "code",
   "execution_count": 21,
   "id": "72d6b6bd-a719-44c6-bd48-2e91fc3d5901",
   "metadata": {},
   "outputs": [
    {
     "name": "stderr",
     "output_type": "stream",
     "text": [
      "C:\\Users\\RANGUMUDRI\\anaconda3\\Lib\\site-packages\\statsmodels\\tsa\\base\\tsa_model.py:473: ValueWarning: An unsupported index was provided and will be ignored when e.g. forecasting.\n",
      "  self._init_dates(dates, freq)\n",
      "C:\\Users\\RANGUMUDRI\\anaconda3\\Lib\\site-packages\\statsmodels\\tsa\\base\\tsa_model.py:473: ValueWarning: An unsupported index was provided and will be ignored when e.g. forecasting.\n",
      "  self._init_dates(dates, freq)\n",
      "C:\\Users\\RANGUMUDRI\\anaconda3\\Lib\\site-packages\\statsmodels\\tsa\\base\\tsa_model.py:473: ValueWarning: An unsupported index was provided and will be ignored when e.g. forecasting.\n",
      "  self._init_dates(dates, freq)\n"
     ]
    },
    {
     "name": "stdout",
     "output_type": "stream",
     "text": [
      "Train R-squared (ARIMA): 0.9468501887524385\n",
      "Test R-squared (ARIMA): 0.8415344938162549\n"
     ]
    },
    {
     "name": "stderr",
     "output_type": "stream",
     "text": [
      "C:\\Users\\RANGUMUDRI\\anaconda3\\Lib\\site-packages\\statsmodels\\base\\model.py:607: ConvergenceWarning: Maximum Likelihood optimization failed to converge. Check mle_retvals\n",
      "  warnings.warn(\"Maximum Likelihood optimization failed to \"\n",
      "C:\\Users\\RANGUMUDRI\\anaconda3\\Lib\\site-packages\\statsmodels\\tsa\\base\\tsa_model.py:836: ValueWarning: No supported index is available. Prediction results will be given with an integer index beginning at `start`.\n",
      "  return get_prediction_index(\n"
     ]
    }
   ],
   "source": [
    "# Ensure diff, y_train, and y_test are defined correctly as per your data setup\n",
    "\n",
    "from statsmodels.tsa.arima.model import ARIMA\n",
    "import pandas as pd\n",
    "import numpy as np\n",
    "import statsmodels.api as sm\n",
    "from sklearn.metrics import r2_score\n",
    "\n",
    "# Fit ARIMA model\n",
    "model = ARIMA(y_train, order=(11, 0, 0))  # Example order, adjust as needed\n",
    "ARIMA_model = model.fit()\n",
    "\n",
    "# Make predictions for training set\n",
    "#ypred_train = ARIMA_model.predict(start=y_train.index[0], end=y_train.index[-1])\n",
    "ypred_train = ARIMA_model.predict(start=0, end=len(y_train)-1)  # Use integer indices\n",
    "\n",
    "\n",
    "\n",
    "# Evaluate training set performance\n",
    "train_r2 = r2_score(y_train, ypred_train)\n",
    "print(\"Train R-squared (ARIMA):\", train_r2)\n",
    "\n",
    "# Make predictions for test set\n",
    "ypred_test = ARIMA_model.predict(start=y_train.index[0], end=[(y_train + y_test)].index[-1])\n",
    "#ypred_test = ARIMA_model.predict(start=len(y_train), end=len(y_train) + len(y_test) - 1)  # Use integer indices\n",
    "\n",
    "# Evaluate test set performance\n",
    "test_r2 = r2_score(y_test, ypred_test)\n",
    "print(\"Test R-squared (ARIMA):\", test_r2)\n"
   ]
  },
  {
   "cell_type": "code",
   "execution_count": 22,
   "id": "0c19f79e-ee31-4fcc-ba23-5a8cf2d951ed",
   "metadata": {},
   "outputs": [
    {
     "data": {
      "text/plain": [
       "2        5.874524\n",
       "3       13.606753\n",
       "4        1.714341\n",
       "5      -12.288365\n",
       "6       19.505425\n",
       "          ...    \n",
       "111     39.380232\n",
       "112      0.799265\n",
       "113     86.526296\n",
       "114    119.127852\n",
       "115     61.940863\n",
       "Name: predicted_mean, Length: 114, dtype: float64"
      ]
     },
     "execution_count": 22,
     "metadata": {},
     "output_type": "execute_result"
    }
   ],
   "source": [
    "ypred_train = pd.Series(ypred_train, index=y_train.index)\n",
    "ypred_train"
   ]
  },
  {
   "cell_type": "code",
   "execution_count": 23,
   "id": "2d4c5be0-2acb-4706-842e-d21184c75bf8",
   "metadata": {},
   "outputs": [
    {
     "name": "stdout",
     "output_type": "stream",
     "text": [
      "train_r2_ARIMA  0.9468501887524385\n",
      "test_r2_ARIMA  0.8415344938162549\n"
     ]
    }
   ],
   "source": [
    "import warnings\n",
    "warnings.simplefilter(\"ignore\")\n",
    "\n",
    "from statsmodels.tsa.arima.model import ARIMA\n",
    "model = ARIMA(diff,order =(0,0,12)) \n",
    "# means AR = 11,I = 0,MA = 0, means this is AR Modelling\n",
    "ARIMA = model.fit()\n",
    "\n",
    "#ypred_train = ARIMA.predict(start=y_train.index[0],end=y_train.index[-1])\n",
    "ypred_train = ARIMA_model.predict(start=0, end=len(y_train)-1)  # Use integer indices\n",
    "\n",
    "\n",
    "from sklearn.metrics import r2_score\n",
    "print(\"train_r2_ARIMA \",r2_score(y_train,ypred_train))\n",
    "\n",
    "#ypred_test = ARIMA.predict(start=y_test.index[0],end=y_test.index[-1])\n",
    "ypred_test = ARIMA_model.predict(start=len(y_train), end=len(y_train) + len(y_test) - 1)  # Use integer indices\n",
    "\n",
    "\n",
    "print(\"test_r2_ARIMA \",r2_score(y_test,ypred_test))\n"
   ]
  },
  {
   "cell_type": "code",
   "execution_count": 24,
   "id": "bd7036ea-68a0-4523-9dea-afd997f1fdfb",
   "metadata": {},
   "outputs": [
    {
     "name": "stdout",
     "output_type": "stream",
     "text": [
      "train_r2_ARIMA  -1.240310483725136\n",
      "test_r2_ARIMA  -1.2717811564079118\n"
     ]
    }
   ],
   "source": [
    "import warnings\n",
    "warnings.simplefilter(\"ignore\")\n",
    "\n",
    "from statsmodels.tsa.arima.model import ARIMA\n",
    "model = ARIMA(diff,order =(11,0,12)) \n",
    "# means AR = 11,I = 0,MA = 12, means this is ARMA Modelling\n",
    "ARIMA = model.fit()\n",
    "\n",
    "ypred_train = ARIMA.predict(start=y_train.index[0],end=y_train.index[-1])\n",
    "\n",
    "from sklearn.metrics import r2_score\n",
    "print(\"train_r2_ARIMA \",r2_score(y_train,ypred_train))\n",
    "\n",
    "ypred_test = ARIMA.predict(start=y_test.index[0],end=y_test.index[-1])\n",
    "\n",
    "print(\"test_r2_ARIMA \",r2_score(ypred_test,y_test))\n"
   ]
  },
  {
   "cell_type": "code",
   "execution_count": 25,
   "id": "a6fd42e9-c7d5-4dc1-a50c-63db4d4be2ff",
   "metadata": {},
   "outputs": [
    {
     "name": "stdout",
     "output_type": "stream",
     "text": [
      "train_r2_ARIMA  -1.3175263126607697\n",
      "test_r2_ARIMA  -1.2695571605838736\n"
     ]
    }
   ],
   "source": [
    "import warnings\n",
    "warnings.simplefilter(\"ignore\")\n",
    "\n",
    "from statsmodels.tsa.arima.model import ARIMA\n",
    "model = ARIMA(diff,order =(11,1,12)) # i =1/2/3...check\n",
    "# means AR = 11,I = 1,MA = 12, means this is ARIMA Modelling\n",
    "ARIMA = model.fit()\n",
    "\n",
    "ypred_train = ARIMA.predict(start=y_train.index[0],end=y_train.index[-1])\n",
    "\n",
    "from sklearn.metrics import r2_score\n",
    "print(\"train_r2_ARIMA \",r2_score(ypred_train,y_train))\n",
    "\n",
    "ypred_test = ARIMA.predict(start=y_test.index[0],end=y_test.index[-1])\n",
    "\n",
    "print(\"test_r2_ARIMA \",r2_score(ypred_test,y_test))\n"
   ]
  },
  {
   "cell_type": "code",
   "execution_count": 26,
   "id": "d986d8c2-3fff-4769-8e89-a5d503b44025",
   "metadata": {},
   "outputs": [
    {
     "name": "stdout",
     "output_type": "stream",
     "text": [
      "train_r2_ARIMA  -1.0160725403010784\n",
      "test_r2_ARIMA  -0.7247156415741756\n"
     ]
    }
   ],
   "source": [
    "import warnings\n",
    "warnings.simplefilter(\"ignore\")\n",
    "\n",
    "from statsmodels.tsa.statespace.sarimax import SARIMAX\n",
    "model = SARIMAX(diff,seasonal_order =(11,0,12,12)) \n",
    "# means AR = 11,I = 0,MA = 12,S(seasonal) = 12, pattern repeats for 12 months\n",
    "SARIMAX = model.fit()\n",
    "\n",
    "ypred_train = SARIMAX.predict(start=y_train.index[0],end=y_train.index[-1])\n",
    "\n",
    "from sklearn.metrics import r2_score\n",
    "print(\"train_r2_ARIMA \",r2_score(y_train,ypred_train))\n",
    "\n",
    "ypred_test = SARIMAX.predict(start=y_test.index[0],end=y_test.index[-1])\n",
    "\n",
    "print(\"test_r2_ARIMA \",r2_score(y_test,ypred_test))\n"
   ]
  },
  {
   "cell_type": "code",
   "execution_count": 27,
   "id": "e9ca3511-1f41-40aa-aa33-092843af4cc4",
   "metadata": {},
   "outputs": [
    {
     "data": {
      "text/plain": [
       "2"
      ]
     },
     "execution_count": 27,
     "metadata": {},
     "output_type": "execute_result"
    }
   ],
   "source": [
    "start=y_train.index[0]\n",
    "start"
   ]
  },
  {
   "cell_type": "code",
   "execution_count": 28,
   "id": "19a089a8-ff49-4010-b26f-f84a3de958b3",
   "metadata": {},
   "outputs": [
    {
     "data": {
      "text/plain": [
       "Index([  2,   3,   4,   5,   6,   7,   8,   9,  10,  11,\n",
       "       ...\n",
       "       106, 107, 108, 109, 110, 111, 112, 113, 114, 115],\n",
       "      dtype='int64', length=114)"
      ]
     },
     "execution_count": 28,
     "metadata": {},
     "output_type": "execute_result"
    }
   ],
   "source": [
    "y_train.index"
   ]
  },
  {
   "cell_type": "code",
   "execution_count": 29,
   "id": "747ab58e-b5f6-4a84-9f19-12ad6b396316",
   "metadata": {},
   "outputs": [
    {
     "data": {
      "text/plain": [
       "2"
      ]
     },
     "execution_count": 29,
     "metadata": {},
     "output_type": "execute_result"
    }
   ],
   "source": [
    "y_train.index[0]"
   ]
  },
  {
   "cell_type": "code",
   "execution_count": 30,
   "id": "5dbc1ece-4af7-4b14-9099-c277cf67f8e1",
   "metadata": {},
   "outputs": [
    {
     "data": {
      "text/plain": [
       "115"
      ]
     },
     "execution_count": 30,
     "metadata": {},
     "output_type": "execute_result"
    }
   ],
   "source": [
    "y_train.index[-1]"
   ]
  },
  {
   "cell_type": "code",
   "execution_count": 31,
   "id": "f0c05272-ed86-4ae7-8fb1-c4816fc9ae6a",
   "metadata": {},
   "outputs": [],
   "source": [
    "import statsmodels"
   ]
  }
 ],
 "metadata": {
  "kernelspec": {
   "display_name": "Python 3 (ipykernel)",
   "language": "python",
   "name": "python3"
  },
  "language_info": {
   "codemirror_mode": {
    "name": "ipython",
    "version": 3
   },
   "file_extension": ".py",
   "mimetype": "text/x-python",
   "name": "python",
   "nbconvert_exporter": "python",
   "pygments_lexer": "ipython3",
   "version": "3.11.7"
  },
  "widgets": {
   "application/vnd.jupyter.widget-state+json": {
    "state": {},
    "version_major": 2,
    "version_minor": 0
   }
  }
 },
 "nbformat": 4,
 "nbformat_minor": 5
}
